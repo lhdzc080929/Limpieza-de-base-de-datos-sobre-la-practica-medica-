{
 "cells": [
  {
   "cell_type": "code",
   "execution_count": 39,
   "id": "67ef3318",
   "metadata": {},
   "outputs": [
    {
     "data": {
      "text/html": [
       "<div>\n",
       "<style scoped>\n",
       "    .dataframe tbody tr th:only-of-type {\n",
       "        vertical-align: middle;\n",
       "    }\n",
       "\n",
       "    .dataframe tbody tr th {\n",
       "        vertical-align: top;\n",
       "    }\n",
       "\n",
       "    .dataframe thead th {\n",
       "        text-align: right;\n",
       "    }\n",
       "</style>\n",
       "<table border=\"1\" class=\"dataframe\">\n",
       "  <thead>\n",
       "    <tr style=\"text-align: right;\">\n",
       "      <th></th>\n",
       "      <th>Amount</th>\n",
       "      <th>Severity</th>\n",
       "      <th>Age</th>\n",
       "      <th>Private Attorney</th>\n",
       "      <th>Marital Status</th>\n",
       "      <th>Specialty</th>\n",
       "      <th>Insurance</th>\n",
       "      <th>Gender</th>\n",
       "    </tr>\n",
       "  </thead>\n",
       "  <tbody>\n",
       "    <tr>\n",
       "      <th>0</th>\n",
       "      <td>57041.0</td>\n",
       "      <td>7.0</td>\n",
       "      <td>62.0</td>\n",
       "      <td>1</td>\n",
       "      <td>NaN</td>\n",
       "      <td>Family Practice</td>\n",
       "      <td>Private</td>\n",
       "      <td>Male</td>\n",
       "    </tr>\n",
       "    <tr>\n",
       "      <th>1</th>\n",
       "      <td>324976.0</td>\n",
       "      <td>6.0</td>\n",
       "      <td>38.0</td>\n",
       "      <td>1</td>\n",
       "      <td>2.0</td>\n",
       "      <td>NaN</td>\n",
       "      <td>No Insurance</td>\n",
       "      <td>Female</td>\n",
       "    </tr>\n",
       "    <tr>\n",
       "      <th>2</th>\n",
       "      <td>135383.0</td>\n",
       "      <td>4.0</td>\n",
       "      <td>34.0</td>\n",
       "      <td>1</td>\n",
       "      <td>2.0</td>\n",
       "      <td>Cardiology</td>\n",
       "      <td>Unknown</td>\n",
       "      <td>Male</td>\n",
       "    </tr>\n",
       "    <tr>\n",
       "      <th>3</th>\n",
       "      <td>829742.0</td>\n",
       "      <td>7.0</td>\n",
       "      <td>42.0</td>\n",
       "      <td>1</td>\n",
       "      <td>1.0</td>\n",
       "      <td>Pediatrics</td>\n",
       "      <td>No Insurance</td>\n",
       "      <td>Female</td>\n",
       "    </tr>\n",
       "    <tr>\n",
       "      <th>4</th>\n",
       "      <td>197675.0</td>\n",
       "      <td>3.0</td>\n",
       "      <td>60.0</td>\n",
       "      <td>0</td>\n",
       "      <td>2.0</td>\n",
       "      <td>OBGYN</td>\n",
       "      <td>Medicare/Medicaid</td>\n",
       "      <td>Female</td>\n",
       "    </tr>\n",
       "    <tr>\n",
       "      <th>...</th>\n",
       "      <td>...</td>\n",
       "      <td>...</td>\n",
       "      <td>...</td>\n",
       "      <td>...</td>\n",
       "      <td>...</td>\n",
       "      <td>...</td>\n",
       "      <td>...</td>\n",
       "      <td>...</td>\n",
       "    </tr>\n",
       "    <tr>\n",
       "      <th>94589</th>\n",
       "      <td>146059.0</td>\n",
       "      <td>3.0</td>\n",
       "      <td>56.0</td>\n",
       "      <td>0</td>\n",
       "      <td>2.0</td>\n",
       "      <td>OBGYN</td>\n",
       "      <td>Unknown</td>\n",
       "      <td>Female</td>\n",
       "    </tr>\n",
       "    <tr>\n",
       "      <th>94590</th>\n",
       "      <td>908341.0</td>\n",
       "      <td>8.0</td>\n",
       "      <td>35.0</td>\n",
       "      <td>1</td>\n",
       "      <td>2.0</td>\n",
       "      <td>Orthopedic Surgery</td>\n",
       "      <td>Unknown</td>\n",
       "      <td>Male</td>\n",
       "    </tr>\n",
       "    <tr>\n",
       "      <th>94591</th>\n",
       "      <td>39355.0</td>\n",
       "      <td>3.0</td>\n",
       "      <td>42.0</td>\n",
       "      <td>0</td>\n",
       "      <td>4.0</td>\n",
       "      <td>Emergency Medicine</td>\n",
       "      <td>Medicare/Medicaid</td>\n",
       "      <td>Male</td>\n",
       "    </tr>\n",
       "    <tr>\n",
       "      <th>94592</th>\n",
       "      <td>827167.0</td>\n",
       "      <td>6.0</td>\n",
       "      <td>57.0</td>\n",
       "      <td>1</td>\n",
       "      <td>0.0</td>\n",
       "      <td>Dermatology</td>\n",
       "      <td>Private</td>\n",
       "      <td>Male</td>\n",
       "    </tr>\n",
       "    <tr>\n",
       "      <th>94593</th>\n",
       "      <td>134090.0</td>\n",
       "      <td>9.0</td>\n",
       "      <td>63.0</td>\n",
       "      <td>1</td>\n",
       "      <td>4.0</td>\n",
       "      <td>Neurology/Neurosurgery</td>\n",
       "      <td>Medicare/Medicaid</td>\n",
       "      <td>Female</td>\n",
       "    </tr>\n",
       "  </tbody>\n",
       "</table>\n",
       "<p>94594 rows × 8 columns</p>\n",
       "</div>"
      ],
      "text/plain": [
       "         Amount  Severity   Age Private Attorney  Marital Status  \\\n",
       "0       57041.0       7.0  62.0                1             NaN   \n",
       "1      324976.0       6.0  38.0                1             2.0   \n",
       "2      135383.0       4.0  34.0                1             2.0   \n",
       "3      829742.0       7.0  42.0                1             1.0   \n",
       "4      197675.0       3.0  60.0                0             2.0   \n",
       "...         ...       ...   ...              ...             ...   \n",
       "94589  146059.0       3.0  56.0                0             2.0   \n",
       "94590  908341.0       8.0  35.0                1             2.0   \n",
       "94591   39355.0       3.0  42.0                0             4.0   \n",
       "94592  827167.0       6.0  57.0                1             0.0   \n",
       "94593  134090.0       9.0  63.0                1             4.0   \n",
       "\n",
       "                    Specialty          Insurance  Gender  \n",
       "0             Family Practice            Private    Male  \n",
       "1                         NaN       No Insurance  Female  \n",
       "2                  Cardiology            Unknown    Male  \n",
       "3                  Pediatrics       No Insurance  Female  \n",
       "4                       OBGYN  Medicare/Medicaid  Female  \n",
       "...                       ...                ...     ...  \n",
       "94589                   OBGYN            Unknown  Female  \n",
       "94590      Orthopedic Surgery            Unknown    Male  \n",
       "94591      Emergency Medicine  Medicare/Medicaid    Male  \n",
       "94592             Dermatology            Private    Male  \n",
       "94593  Neurology/Neurosurgery  Medicare/Medicaid  Female  \n",
       "\n",
       "[94594 rows x 8 columns]"
      ]
     },
     "execution_count": 39,
     "metadata": {},
     "output_type": "execute_result"
    }
   ],
   "source": [
    "import pandas as pd\n",
    "import numpy as np\n",
    "df=pd.read_csv(\"C:/Users/ricru/Documents/df_sucio.csv\")\n",
    "df"
   ]
  },
  {
   "cell_type": "code",
   "execution_count": null,
   "id": "6266a1e6",
   "metadata": {},
   "outputs": [],
   "source": []
  },
  {
   "cell_type": "code",
   "execution_count": 40,
   "id": "22742b67",
   "metadata": {},
   "outputs": [
    {
     "data": {
      "text/plain": [
       "(94594, 8)"
      ]
     },
     "execution_count": 40,
     "metadata": {},
     "output_type": "execute_result"
    }
   ],
   "source": [
    "df.shape"
   ]
  },
  {
   "cell_type": "code",
   "execution_count": 41,
   "id": "bfb26bf1",
   "metadata": {},
   "outputs": [
    {
     "name": "stdout",
     "output_type": "stream",
     "text": [
      "<class 'pandas.core.frame.DataFrame'>\n",
      "RangeIndex: 94594 entries, 0 to 94593\n",
      "Data columns (total 8 columns):\n",
      " #   Column            Non-Null Count  Dtype  \n",
      "---  ------            --------------  -----  \n",
      " 0   Amount            91757 non-null  float64\n",
      " 1   Severity          91757 non-null  float64\n",
      " 2   Age               91757 non-null  float64\n",
      " 3   Private Attorney  91757 non-null  object \n",
      " 4   Marital Status    89918 non-null  float64\n",
      " 5   Specialty         91757 non-null  object \n",
      " 6   Insurance         91757 non-null  object \n",
      " 7   Gender            91757 non-null  object \n",
      "dtypes: float64(4), object(4)\n",
      "memory usage: 5.8+ MB\n"
     ]
    }
   ],
   "source": [
    "df.info()"
   ]
  },
  {
   "cell_type": "code",
   "execution_count": 42,
   "id": "31338862",
   "metadata": {},
   "outputs": [
    {
     "data": {
      "text/plain": [
       "Index(['Amount', 'Severity', 'Age', 'Private Attorney', 'Marital Status',\n",
       "       'Specialty', 'Insurance', 'Gender'],\n",
       "      dtype='object')"
      ]
     },
     "execution_count": 42,
     "metadata": {},
     "output_type": "execute_result"
    }
   ],
   "source": [
    "lista= df.columns\n",
    "lista"
   ]
  },
  {
   "cell_type": "code",
   "execution_count": 43,
   "id": "e2e69c70",
   "metadata": {},
   "outputs": [
    {
     "data": {
      "text/plain": [
       "array([ 57041., 324976., 135383., ..., 923562., 140896.,  13784.],\n",
       "      shape=(66270,))"
      ]
     },
     "execution_count": 43,
     "metadata": {},
     "output_type": "execute_result"
    }
   ],
   "source": [
    "df['Amount'].unique()"
   ]
  },
  {
   "cell_type": "code",
   "execution_count": 44,
   "id": "532a7a30",
   "metadata": {},
   "outputs": [
    {
     "data": {
      "text/plain": [
       "66269"
      ]
     },
     "execution_count": 44,
     "metadata": {},
     "output_type": "execute_result"
    }
   ],
   "source": [
    "df['Amount'].nunique()"
   ]
  },
  {
   "cell_type": "code",
   "execution_count": 45,
   "id": "16bc956a",
   "metadata": {},
   "outputs": [
    {
     "data": {
      "text/plain": [
       "array([ 7.,  6.,  4.,  3.,  9., nan,  1.,  5.,  2.,  8.])"
      ]
     },
     "execution_count": 45,
     "metadata": {},
     "output_type": "execute_result"
    }
   ],
   "source": [
    "df['Severity'].unique()"
   ]
  },
  {
   "cell_type": "code",
   "execution_count": 46,
   "id": "81b88ec6",
   "metadata": {},
   "outputs": [
    {
     "data": {
      "text/plain": [
       "9"
      ]
     },
     "execution_count": 46,
     "metadata": {},
     "output_type": "execute_result"
    }
   ],
   "source": [
    "df['Severity'].nunique()"
   ]
  },
  {
   "cell_type": "code",
   "execution_count": 47,
   "id": "c761aa86",
   "metadata": {},
   "outputs": [
    {
     "data": {
      "text/plain": [
       "array([62., 38., 34., 42., 60., 71., 50., 58., 37., 51., 23., nan, 57.,\n",
       "       73., 43.,  4., 41., 39., 19., 27., 32., 16., 26., 35., 36., 69.,\n",
       "        7., 24., 64., 68., 40., 80., 52., 61., 28., 55., 59.,  3., 11.,\n",
       "       83., 74., 63., 76., 14., 77.,  9., 66., 20., 45., 31., 53., 22.,\n",
       "       54., 67., 10., 79., 17., 56., 29., 48., 25., 21.,  2., 49., 44.,\n",
       "       82., 15., 46., 18., 33., 47., 65.,  6., 75., 70.,  8., 30., 72.,\n",
       "        5., 85., 12., 87., 86., 81., 78., 13., 84.,  0.,  1.])"
      ]
     },
     "execution_count": 47,
     "metadata": {},
     "output_type": "execute_result"
    }
   ],
   "source": [
    "df['Age'].unique()"
   ]
  },
  {
   "cell_type": "code",
   "execution_count": 48,
   "id": "5455f7c1",
   "metadata": {},
   "outputs": [
    {
     "data": {
      "text/plain": [
       "88"
      ]
     },
     "execution_count": 48,
     "metadata": {},
     "output_type": "execute_result"
    }
   ],
   "source": [
    "df['Age'].nunique()"
   ]
  },
  {
   "cell_type": "code",
   "execution_count": 49,
   "id": "d2a56aac",
   "metadata": {},
   "outputs": [
    {
     "data": {
      "text/plain": [
       "array(['1', '0', nan, 'Auto%#'], dtype=object)"
      ]
     },
     "execution_count": 49,
     "metadata": {},
     "output_type": "execute_result"
    }
   ],
   "source": [
    "df['Private Attorney'].unique()"
   ]
  },
  {
   "cell_type": "code",
   "execution_count": 50,
   "id": "d6f4dda2",
   "metadata": {},
   "outputs": [
    {
     "data": {
      "text/plain": [
       "3"
      ]
     },
     "execution_count": 50,
     "metadata": {},
     "output_type": "execute_result"
    }
   ],
   "source": [
    "df['Private Attorney'].nunique()"
   ]
  },
  {
   "cell_type": "code",
   "execution_count": 51,
   "id": "b1cbac64",
   "metadata": {},
   "outputs": [
    {
     "data": {
      "text/plain": [
       "array([nan,  2.,  1.,  4.,  0.,  3.])"
      ]
     },
     "execution_count": 51,
     "metadata": {},
     "output_type": "execute_result"
    }
   ],
   "source": [
    "df['Marital Status'].unique()"
   ]
  },
  {
   "cell_type": "code",
   "execution_count": 52,
   "id": "f0ce36df",
   "metadata": {},
   "outputs": [
    {
     "data": {
      "text/plain": [
       "5"
      ]
     },
     "execution_count": 52,
     "metadata": {},
     "output_type": "execute_result"
    }
   ],
   "source": [
    "df['Marital Status'].nunique()"
   ]
  },
  {
   "cell_type": "code",
   "execution_count": 53,
   "id": "ac03e4eb",
   "metadata": {},
   "outputs": [
    {
     "data": {
      "text/plain": [
       "array(['Family Practice', nan, 'Cardiology', 'Pediatrics', 'OBGYN',\n",
       "       'Internal Medicine', 'Anesthesiology', 'Emergency Medicine',\n",
       "       'Ophthamology', 'Urological Surgery', 'Orthopedic Surgery',\n",
       "       'Neurology/Neurosurgery', 'Occupational Medicine', 'Resident',\n",
       "       'Thoracic Surgery', 'General Surgery', 'Radiology', 'Pathology',\n",
       "       'Physical Medicine', 'Plastic Surgeon', 'Auto%#', 'Dermatology'],\n",
       "      dtype=object)"
      ]
     },
     "execution_count": 53,
     "metadata": {},
     "output_type": "execute_result"
    }
   ],
   "source": [
    "df['Specialty'].unique()"
   ]
  },
  {
   "cell_type": "code",
   "execution_count": 54,
   "id": "dde4665a",
   "metadata": {},
   "outputs": [
    {
     "data": {
      "text/plain": [
       "21"
      ]
     },
     "execution_count": 54,
     "metadata": {},
     "output_type": "execute_result"
    }
   ],
   "source": [
    "df['Specialty'].nunique()"
   ]
  },
  {
   "cell_type": "code",
   "execution_count": 55,
   "id": "22b260b6",
   "metadata": {},
   "outputs": [
    {
     "data": {
      "text/plain": [
       "array(['Private', 'No Insurance', 'Unknown', 'Medicare/Medicaid', nan,\n",
       "       'Workers Compensation'], dtype=object)"
      ]
     },
     "execution_count": 55,
     "metadata": {},
     "output_type": "execute_result"
    }
   ],
   "source": [
    "df['Insurance'].unique()"
   ]
  },
  {
   "cell_type": "code",
   "execution_count": 56,
   "id": "cc4f83fb",
   "metadata": {},
   "outputs": [
    {
     "data": {
      "text/plain": [
       "5"
      ]
     },
     "execution_count": 56,
     "metadata": {},
     "output_type": "execute_result"
    }
   ],
   "source": [
    "df['Insurance'].nunique()"
   ]
  },
  {
   "cell_type": "code",
   "execution_count": 57,
   "id": "eafe57c2",
   "metadata": {},
   "outputs": [
    {
     "data": {
      "text/plain": [
       "array(['Male', 'Female', 'Auto%#', nan], dtype=object)"
      ]
     },
     "execution_count": 57,
     "metadata": {},
     "output_type": "execute_result"
    }
   ],
   "source": [
    "df['Gender'].unique()"
   ]
  },
  {
   "cell_type": "code",
   "execution_count": 58,
   "id": "d87b588b",
   "metadata": {},
   "outputs": [
    {
     "data": {
      "text/plain": [
       "3"
      ]
     },
     "execution_count": 58,
     "metadata": {},
     "output_type": "execute_result"
    }
   ],
   "source": [
    "df['Gender'].nunique()"
   ]
  },
  {
   "cell_type": "code",
   "execution_count": 59,
   "id": "660cc7c4",
   "metadata": {},
   "outputs": [
    {
     "data": {
      "text/plain": [
       "np.int64(8463)"
      ]
     },
     "execution_count": 59,
     "metadata": {},
     "output_type": "execute_result"
    }
   ],
   "source": [
    "df.duplicated().sum()"
   ]
  },
  {
   "cell_type": "code",
   "execution_count": 60,
   "id": "a30d0027",
   "metadata": {},
   "outputs": [
    {
     "data": {
      "text/plain": [
       "Amount              2837\n",
       "Severity            2837\n",
       "Age                 2837\n",
       "Private Attorney    2837\n",
       "Marital Status      4676\n",
       "Specialty           2837\n",
       "Insurance           2837\n",
       "Gender              2837\n",
       "dtype: int64"
      ]
     },
     "execution_count": 60,
     "metadata": {},
     "output_type": "execute_result"
    }
   ],
   "source": [
    "df.isnull().sum()"
   ]
  },
  {
   "cell_type": "code",
   "execution_count": 61,
   "id": "4ac035ed",
   "metadata": {},
   "outputs": [
    {
     "data": {
      "text/html": [
       "<div>\n",
       "<style scoped>\n",
       "    .dataframe tbody tr th:only-of-type {\n",
       "        vertical-align: middle;\n",
       "    }\n",
       "\n",
       "    .dataframe tbody tr th {\n",
       "        vertical-align: top;\n",
       "    }\n",
       "\n",
       "    .dataframe thead th {\n",
       "        text-align: right;\n",
       "    }\n",
       "</style>\n",
       "<table border=\"1\" class=\"dataframe\">\n",
       "  <thead>\n",
       "    <tr style=\"text-align: right;\">\n",
       "      <th></th>\n",
       "      <th>Amount</th>\n",
       "      <th>Severity</th>\n",
       "      <th>Age</th>\n",
       "      <th>Private Attorney</th>\n",
       "      <th>Marital Status</th>\n",
       "      <th>Specialty</th>\n",
       "      <th>Insurance</th>\n",
       "      <th>Gender</th>\n",
       "    </tr>\n",
       "  </thead>\n",
       "  <tbody>\n",
       "    <tr>\n",
       "      <th>0</th>\n",
       "      <td>False</td>\n",
       "      <td>False</td>\n",
       "      <td>False</td>\n",
       "      <td>False</td>\n",
       "      <td>True</td>\n",
       "      <td>False</td>\n",
       "      <td>False</td>\n",
       "      <td>False</td>\n",
       "    </tr>\n",
       "    <tr>\n",
       "      <th>1</th>\n",
       "      <td>False</td>\n",
       "      <td>False</td>\n",
       "      <td>False</td>\n",
       "      <td>False</td>\n",
       "      <td>False</td>\n",
       "      <td>True</td>\n",
       "      <td>False</td>\n",
       "      <td>False</td>\n",
       "    </tr>\n",
       "    <tr>\n",
       "      <th>2</th>\n",
       "      <td>False</td>\n",
       "      <td>False</td>\n",
       "      <td>False</td>\n",
       "      <td>False</td>\n",
       "      <td>False</td>\n",
       "      <td>False</td>\n",
       "      <td>False</td>\n",
       "      <td>False</td>\n",
       "    </tr>\n",
       "    <tr>\n",
       "      <th>3</th>\n",
       "      <td>False</td>\n",
       "      <td>False</td>\n",
       "      <td>False</td>\n",
       "      <td>False</td>\n",
       "      <td>False</td>\n",
       "      <td>False</td>\n",
       "      <td>False</td>\n",
       "      <td>False</td>\n",
       "    </tr>\n",
       "    <tr>\n",
       "      <th>4</th>\n",
       "      <td>False</td>\n",
       "      <td>False</td>\n",
       "      <td>False</td>\n",
       "      <td>False</td>\n",
       "      <td>False</td>\n",
       "      <td>False</td>\n",
       "      <td>False</td>\n",
       "      <td>False</td>\n",
       "    </tr>\n",
       "    <tr>\n",
       "      <th>...</th>\n",
       "      <td>...</td>\n",
       "      <td>...</td>\n",
       "      <td>...</td>\n",
       "      <td>...</td>\n",
       "      <td>...</td>\n",
       "      <td>...</td>\n",
       "      <td>...</td>\n",
       "      <td>...</td>\n",
       "    </tr>\n",
       "    <tr>\n",
       "      <th>94589</th>\n",
       "      <td>False</td>\n",
       "      <td>False</td>\n",
       "      <td>False</td>\n",
       "      <td>False</td>\n",
       "      <td>False</td>\n",
       "      <td>False</td>\n",
       "      <td>False</td>\n",
       "      <td>False</td>\n",
       "    </tr>\n",
       "    <tr>\n",
       "      <th>94590</th>\n",
       "      <td>False</td>\n",
       "      <td>False</td>\n",
       "      <td>False</td>\n",
       "      <td>False</td>\n",
       "      <td>False</td>\n",
       "      <td>False</td>\n",
       "      <td>False</td>\n",
       "      <td>False</td>\n",
       "    </tr>\n",
       "    <tr>\n",
       "      <th>94591</th>\n",
       "      <td>False</td>\n",
       "      <td>False</td>\n",
       "      <td>False</td>\n",
       "      <td>False</td>\n",
       "      <td>False</td>\n",
       "      <td>False</td>\n",
       "      <td>False</td>\n",
       "      <td>False</td>\n",
       "    </tr>\n",
       "    <tr>\n",
       "      <th>94592</th>\n",
       "      <td>False</td>\n",
       "      <td>False</td>\n",
       "      <td>False</td>\n",
       "      <td>False</td>\n",
       "      <td>False</td>\n",
       "      <td>False</td>\n",
       "      <td>False</td>\n",
       "      <td>False</td>\n",
       "    </tr>\n",
       "    <tr>\n",
       "      <th>94593</th>\n",
       "      <td>False</td>\n",
       "      <td>False</td>\n",
       "      <td>False</td>\n",
       "      <td>False</td>\n",
       "      <td>False</td>\n",
       "      <td>False</td>\n",
       "      <td>False</td>\n",
       "      <td>False</td>\n",
       "    </tr>\n",
       "  </tbody>\n",
       "</table>\n",
       "<p>94594 rows × 8 columns</p>\n",
       "</div>"
      ],
      "text/plain": [
       "       Amount  Severity    Age  Private Attorney  Marital Status  Specialty  \\\n",
       "0       False     False  False             False            True      False   \n",
       "1       False     False  False             False           False       True   \n",
       "2       False     False  False             False           False      False   \n",
       "3       False     False  False             False           False      False   \n",
       "4       False     False  False             False           False      False   \n",
       "...       ...       ...    ...               ...             ...        ...   \n",
       "94589   False     False  False             False           False      False   \n",
       "94590   False     False  False             False           False      False   \n",
       "94591   False     False  False             False           False      False   \n",
       "94592   False     False  False             False           False      False   \n",
       "94593   False     False  False             False           False      False   \n",
       "\n",
       "       Insurance  Gender  \n",
       "0          False   False  \n",
       "1          False   False  \n",
       "2          False   False  \n",
       "3          False   False  \n",
       "4          False   False  \n",
       "...          ...     ...  \n",
       "94589      False   False  \n",
       "94590      False   False  \n",
       "94591      False   False  \n",
       "94592      False   False  \n",
       "94593      False   False  \n",
       "\n",
       "[94594 rows x 8 columns]"
      ]
     },
     "execution_count": 61,
     "metadata": {},
     "output_type": "execute_result"
    }
   ],
   "source": [
    "df.isnull()"
   ]
  },
  {
   "cell_type": "code",
   "execution_count": 62,
   "id": "a4b5e96b",
   "metadata": {},
   "outputs": [
    {
     "data": {
      "text/html": [
       "<div>\n",
       "<style scoped>\n",
       "    .dataframe tbody tr th:only-of-type {\n",
       "        vertical-align: middle;\n",
       "    }\n",
       "\n",
       "    .dataframe tbody tr th {\n",
       "        vertical-align: top;\n",
       "    }\n",
       "\n",
       "    .dataframe thead th {\n",
       "        text-align: right;\n",
       "    }\n",
       "</style>\n",
       "<table border=\"1\" class=\"dataframe\">\n",
       "  <thead>\n",
       "    <tr style=\"text-align: right;\">\n",
       "      <th></th>\n",
       "      <th>Amount</th>\n",
       "      <th>Severity</th>\n",
       "      <th>Age</th>\n",
       "      <th>Private Attorney</th>\n",
       "      <th>Marital Status</th>\n",
       "      <th>Specialty</th>\n",
       "      <th>Insurance</th>\n",
       "      <th>Gender</th>\n",
       "    </tr>\n",
       "  </thead>\n",
       "  <tbody>\n",
       "    <tr>\n",
       "      <th>0</th>\n",
       "      <td>57041.0</td>\n",
       "      <td>7.0</td>\n",
       "      <td>62.0</td>\n",
       "      <td>1</td>\n",
       "      <td>NaN</td>\n",
       "      <td>Family Practice</td>\n",
       "      <td>Private</td>\n",
       "      <td>Male</td>\n",
       "    </tr>\n",
       "    <tr>\n",
       "      <th>1</th>\n",
       "      <td>324976.0</td>\n",
       "      <td>6.0</td>\n",
       "      <td>38.0</td>\n",
       "      <td>1</td>\n",
       "      <td>2.0</td>\n",
       "      <td>NaN</td>\n",
       "      <td>No Insurance</td>\n",
       "      <td>Female</td>\n",
       "    </tr>\n",
       "    <tr>\n",
       "      <th>2</th>\n",
       "      <td>135383.0</td>\n",
       "      <td>4.0</td>\n",
       "      <td>34.0</td>\n",
       "      <td>1</td>\n",
       "      <td>2.0</td>\n",
       "      <td>Cardiology</td>\n",
       "      <td>Unknown</td>\n",
       "      <td>Male</td>\n",
       "    </tr>\n",
       "    <tr>\n",
       "      <th>3</th>\n",
       "      <td>829742.0</td>\n",
       "      <td>7.0</td>\n",
       "      <td>42.0</td>\n",
       "      <td>1</td>\n",
       "      <td>1.0</td>\n",
       "      <td>Pediatrics</td>\n",
       "      <td>No Insurance</td>\n",
       "      <td>Female</td>\n",
       "    </tr>\n",
       "    <tr>\n",
       "      <th>4</th>\n",
       "      <td>197675.0</td>\n",
       "      <td>3.0</td>\n",
       "      <td>60.0</td>\n",
       "      <td>0</td>\n",
       "      <td>2.0</td>\n",
       "      <td>OBGYN</td>\n",
       "      <td>Medicare/Medicaid</td>\n",
       "      <td>Female</td>\n",
       "    </tr>\n",
       "    <tr>\n",
       "      <th>...</th>\n",
       "      <td>...</td>\n",
       "      <td>...</td>\n",
       "      <td>...</td>\n",
       "      <td>...</td>\n",
       "      <td>...</td>\n",
       "      <td>...</td>\n",
       "      <td>...</td>\n",
       "      <td>...</td>\n",
       "    </tr>\n",
       "    <tr>\n",
       "      <th>94589</th>\n",
       "      <td>146059.0</td>\n",
       "      <td>3.0</td>\n",
       "      <td>56.0</td>\n",
       "      <td>0</td>\n",
       "      <td>2.0</td>\n",
       "      <td>OBGYN</td>\n",
       "      <td>Unknown</td>\n",
       "      <td>Female</td>\n",
       "    </tr>\n",
       "    <tr>\n",
       "      <th>94590</th>\n",
       "      <td>908341.0</td>\n",
       "      <td>8.0</td>\n",
       "      <td>35.0</td>\n",
       "      <td>1</td>\n",
       "      <td>2.0</td>\n",
       "      <td>Orthopedic Surgery</td>\n",
       "      <td>Unknown</td>\n",
       "      <td>Male</td>\n",
       "    </tr>\n",
       "    <tr>\n",
       "      <th>94591</th>\n",
       "      <td>39355.0</td>\n",
       "      <td>3.0</td>\n",
       "      <td>42.0</td>\n",
       "      <td>0</td>\n",
       "      <td>4.0</td>\n",
       "      <td>Emergency Medicine</td>\n",
       "      <td>Medicare/Medicaid</td>\n",
       "      <td>Male</td>\n",
       "    </tr>\n",
       "    <tr>\n",
       "      <th>94592</th>\n",
       "      <td>827167.0</td>\n",
       "      <td>6.0</td>\n",
       "      <td>57.0</td>\n",
       "      <td>1</td>\n",
       "      <td>0.0</td>\n",
       "      <td>Dermatology</td>\n",
       "      <td>Private</td>\n",
       "      <td>Male</td>\n",
       "    </tr>\n",
       "    <tr>\n",
       "      <th>94593</th>\n",
       "      <td>134090.0</td>\n",
       "      <td>9.0</td>\n",
       "      <td>63.0</td>\n",
       "      <td>1</td>\n",
       "      <td>4.0</td>\n",
       "      <td>Neurology/Neurosurgery</td>\n",
       "      <td>Medicare/Medicaid</td>\n",
       "      <td>Female</td>\n",
       "    </tr>\n",
       "  </tbody>\n",
       "</table>\n",
       "<p>94594 rows × 8 columns</p>\n",
       "</div>"
      ],
      "text/plain": [
       "         Amount  Severity   Age Private Attorney  Marital Status  \\\n",
       "0       57041.0       7.0  62.0                1             NaN   \n",
       "1      324976.0       6.0  38.0                1             2.0   \n",
       "2      135383.0       4.0  34.0                1             2.0   \n",
       "3      829742.0       7.0  42.0                1             1.0   \n",
       "4      197675.0       3.0  60.0                0             2.0   \n",
       "...         ...       ...   ...              ...             ...   \n",
       "94589  146059.0       3.0  56.0                0             2.0   \n",
       "94590  908341.0       8.0  35.0                1             2.0   \n",
       "94591   39355.0       3.0  42.0                0             4.0   \n",
       "94592  827167.0       6.0  57.0                1             0.0   \n",
       "94593  134090.0       9.0  63.0                1             4.0   \n",
       "\n",
       "                    Specialty          Insurance  Gender  \n",
       "0             Family Practice            Private    Male  \n",
       "1                         NaN       No Insurance  Female  \n",
       "2                  Cardiology            Unknown    Male  \n",
       "3                  Pediatrics       No Insurance  Female  \n",
       "4                       OBGYN  Medicare/Medicaid  Female  \n",
       "...                       ...                ...     ...  \n",
       "94589                   OBGYN            Unknown  Female  \n",
       "94590      Orthopedic Surgery            Unknown    Male  \n",
       "94591      Emergency Medicine  Medicare/Medicaid    Male  \n",
       "94592             Dermatology            Private    Male  \n",
       "94593  Neurology/Neurosurgery  Medicare/Medicaid  Female  \n",
       "\n",
       "[94594 rows x 8 columns]"
      ]
     },
     "execution_count": 62,
     "metadata": {},
     "output_type": "execute_result"
    }
   ],
   "source": [
    "lista_col=df.columns\n",
    "df1=df\n",
    "for i in lista_col:\n",
    "    df1=df1[df1[i] != 'invalid_value']\n",
    "df1"
   ]
  },
  {
   "cell_type": "code",
   "execution_count": 63,
   "id": "a7427172",
   "metadata": {},
   "outputs": [
    {
     "name": "stdout",
     "output_type": "stream",
     "text": [
      "En la columna Amount los invalid_value son: 0\n",
      "En la columna Severity los invalid_value son: 0\n",
      "En la columna Age los invalid_value son: 0\n",
      "En la columna Private Attorney los invalid_value son: 0\n",
      "En la columna Marital Status los invalid_value son: 0\n",
      "En la columna Specialty los invalid_value son: 0\n",
      "En la columna Insurance los invalid_value son: 0\n",
      "En la columna Gender los invalid_value son: 0\n"
     ]
    }
   ],
   "source": [
    "for i in lista_col:\n",
    "    print(f\"En la columna {i} los invalid_value son: {df1[df1[i] == 'invalid_value'].shape[0]}\")"
   ]
  },
  {
   "cell_type": "code",
   "execution_count": 64,
   "id": "5c26490e",
   "metadata": {},
   "outputs": [
    {
     "name": "stdout",
     "output_type": "stream",
     "text": [
      "<class 'pandas.core.frame.DataFrame'>\n",
      "RangeIndex: 94594 entries, 0 to 94593\n",
      "Data columns (total 8 columns):\n",
      " #   Column            Non-Null Count  Dtype  \n",
      "---  ------            --------------  -----  \n",
      " 0   Amount            91757 non-null  float64\n",
      " 1   Severity          91757 non-null  float64\n",
      " 2   Age               91757 non-null  float64\n",
      " 3   Private Attorney  91757 non-null  object \n",
      " 4   Marital Status    89918 non-null  float64\n",
      " 5   Specialty         91757 non-null  object \n",
      " 6   Insurance         91757 non-null  object \n",
      " 7   Gender            91757 non-null  object \n",
      "dtypes: float64(4), object(4)\n",
      "memory usage: 5.8+ MB\n"
     ]
    }
   ],
   "source": [
    "df1.info()"
   ]
  },
  {
   "cell_type": "code",
   "execution_count": 65,
   "id": "9817b1d7",
   "metadata": {},
   "outputs": [
    {
     "data": {
      "text/plain": [
       "Amount              2837\n",
       "Severity            2837\n",
       "Age                 2837\n",
       "Private Attorney    2837\n",
       "Marital Status      4676\n",
       "Specialty           2837\n",
       "Insurance           2837\n",
       "Gender              2837\n",
       "dtype: int64"
      ]
     },
     "execution_count": 65,
     "metadata": {},
     "output_type": "execute_result"
    }
   ],
   "source": [
    "df1.isnull().sum()"
   ]
  },
  {
   "cell_type": "code",
   "execution_count": 66,
   "id": "1f351f7f",
   "metadata": {},
   "outputs": [
    {
     "data": {
      "text/html": [
       "<div>\n",
       "<style scoped>\n",
       "    .dataframe tbody tr th:only-of-type {\n",
       "        vertical-align: middle;\n",
       "    }\n",
       "\n",
       "    .dataframe tbody tr th {\n",
       "        vertical-align: top;\n",
       "    }\n",
       "\n",
       "    .dataframe thead th {\n",
       "        text-align: right;\n",
       "    }\n",
       "</style>\n",
       "<table border=\"1\" class=\"dataframe\">\n",
       "  <thead>\n",
       "    <tr style=\"text-align: right;\">\n",
       "      <th></th>\n",
       "      <th>Amount</th>\n",
       "      <th>Severity</th>\n",
       "      <th>Age</th>\n",
       "      <th>Private Attorney</th>\n",
       "      <th>Marital Status</th>\n",
       "      <th>Specialty</th>\n",
       "      <th>Insurance</th>\n",
       "      <th>Gender</th>\n",
       "    </tr>\n",
       "  </thead>\n",
       "  <tbody>\n",
       "    <tr>\n",
       "      <th>0</th>\n",
       "      <td>57041.0</td>\n",
       "      <td>7.0</td>\n",
       "      <td>62.0</td>\n",
       "      <td>1</td>\n",
       "      <td>NaN</td>\n",
       "      <td>Family Practice</td>\n",
       "      <td>Private</td>\n",
       "      <td>Male</td>\n",
       "    </tr>\n",
       "    <tr>\n",
       "      <th>1</th>\n",
       "      <td>324976.0</td>\n",
       "      <td>6.0</td>\n",
       "      <td>38.0</td>\n",
       "      <td>1</td>\n",
       "      <td>2.0</td>\n",
       "      <td>NaN</td>\n",
       "      <td>No Insurance</td>\n",
       "      <td>Female</td>\n",
       "    </tr>\n",
       "    <tr>\n",
       "      <th>2</th>\n",
       "      <td>135383.0</td>\n",
       "      <td>4.0</td>\n",
       "      <td>34.0</td>\n",
       "      <td>1</td>\n",
       "      <td>2.0</td>\n",
       "      <td>Cardiology</td>\n",
       "      <td>Unknown</td>\n",
       "      <td>Male</td>\n",
       "    </tr>\n",
       "    <tr>\n",
       "      <th>3</th>\n",
       "      <td>829742.0</td>\n",
       "      <td>7.0</td>\n",
       "      <td>42.0</td>\n",
       "      <td>1</td>\n",
       "      <td>1.0</td>\n",
       "      <td>Pediatrics</td>\n",
       "      <td>No Insurance</td>\n",
       "      <td>Female</td>\n",
       "    </tr>\n",
       "    <tr>\n",
       "      <th>4</th>\n",
       "      <td>197675.0</td>\n",
       "      <td>3.0</td>\n",
       "      <td>60.0</td>\n",
       "      <td>0</td>\n",
       "      <td>2.0</td>\n",
       "      <td>OBGYN</td>\n",
       "      <td>Medicare/Medicaid</td>\n",
       "      <td>Female</td>\n",
       "    </tr>\n",
       "    <tr>\n",
       "      <th>...</th>\n",
       "      <td>...</td>\n",
       "      <td>...</td>\n",
       "      <td>...</td>\n",
       "      <td>...</td>\n",
       "      <td>...</td>\n",
       "      <td>...</td>\n",
       "      <td>...</td>\n",
       "      <td>...</td>\n",
       "    </tr>\n",
       "    <tr>\n",
       "      <th>94589</th>\n",
       "      <td>146059.0</td>\n",
       "      <td>3.0</td>\n",
       "      <td>56.0</td>\n",
       "      <td>0</td>\n",
       "      <td>2.0</td>\n",
       "      <td>OBGYN</td>\n",
       "      <td>Unknown</td>\n",
       "      <td>Female</td>\n",
       "    </tr>\n",
       "    <tr>\n",
       "      <th>94590</th>\n",
       "      <td>908341.0</td>\n",
       "      <td>8.0</td>\n",
       "      <td>35.0</td>\n",
       "      <td>1</td>\n",
       "      <td>2.0</td>\n",
       "      <td>Orthopedic Surgery</td>\n",
       "      <td>Unknown</td>\n",
       "      <td>Male</td>\n",
       "    </tr>\n",
       "    <tr>\n",
       "      <th>94591</th>\n",
       "      <td>39355.0</td>\n",
       "      <td>3.0</td>\n",
       "      <td>42.0</td>\n",
       "      <td>0</td>\n",
       "      <td>4.0</td>\n",
       "      <td>Emergency Medicine</td>\n",
       "      <td>Medicare/Medicaid</td>\n",
       "      <td>Male</td>\n",
       "    </tr>\n",
       "    <tr>\n",
       "      <th>94592</th>\n",
       "      <td>827167.0</td>\n",
       "      <td>6.0</td>\n",
       "      <td>57.0</td>\n",
       "      <td>1</td>\n",
       "      <td>0.0</td>\n",
       "      <td>Dermatology</td>\n",
       "      <td>Private</td>\n",
       "      <td>Male</td>\n",
       "    </tr>\n",
       "    <tr>\n",
       "      <th>94593</th>\n",
       "      <td>134090.0</td>\n",
       "      <td>9.0</td>\n",
       "      <td>63.0</td>\n",
       "      <td>1</td>\n",
       "      <td>4.0</td>\n",
       "      <td>Neurology/Neurosurgery</td>\n",
       "      <td>Medicare/Medicaid</td>\n",
       "      <td>Female</td>\n",
       "    </tr>\n",
       "  </tbody>\n",
       "</table>\n",
       "<p>94594 rows × 8 columns</p>\n",
       "</div>"
      ],
      "text/plain": [
       "         Amount  Severity   Age Private Attorney  Marital Status  \\\n",
       "0       57041.0       7.0  62.0                1             NaN   \n",
       "1      324976.0       6.0  38.0                1             2.0   \n",
       "2      135383.0       4.0  34.0                1             2.0   \n",
       "3      829742.0       7.0  42.0                1             1.0   \n",
       "4      197675.0       3.0  60.0                0             2.0   \n",
       "...         ...       ...   ...              ...             ...   \n",
       "94589  146059.0       3.0  56.0                0             2.0   \n",
       "94590  908341.0       8.0  35.0                1             2.0   \n",
       "94591   39355.0       3.0  42.0                0             4.0   \n",
       "94592  827167.0       6.0  57.0                1             0.0   \n",
       "94593  134090.0       9.0  63.0                1             4.0   \n",
       "\n",
       "                    Specialty          Insurance  Gender  \n",
       "0             Family Practice            Private    Male  \n",
       "1                         NaN       No Insurance  Female  \n",
       "2                  Cardiology            Unknown    Male  \n",
       "3                  Pediatrics       No Insurance  Female  \n",
       "4                       OBGYN  Medicare/Medicaid  Female  \n",
       "...                       ...                ...     ...  \n",
       "94589                   OBGYN            Unknown  Female  \n",
       "94590      Orthopedic Surgery            Unknown    Male  \n",
       "94591      Emergency Medicine  Medicare/Medicaid    Male  \n",
       "94592             Dermatology            Private    Male  \n",
       "94593  Neurology/Neurosurgery  Medicare/Medicaid  Female  \n",
       "\n",
       "[94594 rows x 8 columns]"
      ]
     },
     "execution_count": 66,
     "metadata": {},
     "output_type": "execute_result"
    }
   ],
   "source": [
    "df1['Amount'] = pd.to_numeric(df1['Amount'], errors='coerce')\n",
    "df1"
   ]
  },
  {
   "cell_type": "code",
   "execution_count": 67,
   "id": "b74c6e43",
   "metadata": {},
   "outputs": [
    {
     "data": {
      "text/html": [
       "<div>\n",
       "<style scoped>\n",
       "    .dataframe tbody tr th:only-of-type {\n",
       "        vertical-align: middle;\n",
       "    }\n",
       "\n",
       "    .dataframe tbody tr th {\n",
       "        vertical-align: top;\n",
       "    }\n",
       "\n",
       "    .dataframe thead th {\n",
       "        text-align: right;\n",
       "    }\n",
       "</style>\n",
       "<table border=\"1\" class=\"dataframe\">\n",
       "  <thead>\n",
       "    <tr style=\"text-align: right;\">\n",
       "      <th></th>\n",
       "      <th>Amount</th>\n",
       "      <th>Severity</th>\n",
       "      <th>Age</th>\n",
       "      <th>Private Attorney</th>\n",
       "      <th>Marital Status</th>\n",
       "      <th>Specialty</th>\n",
       "      <th>Insurance</th>\n",
       "      <th>Gender</th>\n",
       "    </tr>\n",
       "  </thead>\n",
       "  <tbody>\n",
       "    <tr>\n",
       "      <th>0</th>\n",
       "      <td>57041.0</td>\n",
       "      <td>7.0</td>\n",
       "      <td>62.0</td>\n",
       "      <td>1</td>\n",
       "      <td>NaN</td>\n",
       "      <td>Family Practice</td>\n",
       "      <td>Private</td>\n",
       "      <td>Male</td>\n",
       "    </tr>\n",
       "    <tr>\n",
       "      <th>1</th>\n",
       "      <td>324976.0</td>\n",
       "      <td>6.0</td>\n",
       "      <td>38.0</td>\n",
       "      <td>1</td>\n",
       "      <td>2.0</td>\n",
       "      <td>NaN</td>\n",
       "      <td>No Insurance</td>\n",
       "      <td>Female</td>\n",
       "    </tr>\n",
       "    <tr>\n",
       "      <th>2</th>\n",
       "      <td>135383.0</td>\n",
       "      <td>4.0</td>\n",
       "      <td>34.0</td>\n",
       "      <td>1</td>\n",
       "      <td>2.0</td>\n",
       "      <td>Cardiology</td>\n",
       "      <td>Unknown</td>\n",
       "      <td>Male</td>\n",
       "    </tr>\n",
       "    <tr>\n",
       "      <th>3</th>\n",
       "      <td>829742.0</td>\n",
       "      <td>7.0</td>\n",
       "      <td>42.0</td>\n",
       "      <td>1</td>\n",
       "      <td>1.0</td>\n",
       "      <td>Pediatrics</td>\n",
       "      <td>No Insurance</td>\n",
       "      <td>Female</td>\n",
       "    </tr>\n",
       "    <tr>\n",
       "      <th>4</th>\n",
       "      <td>197675.0</td>\n",
       "      <td>3.0</td>\n",
       "      <td>60.0</td>\n",
       "      <td>0</td>\n",
       "      <td>2.0</td>\n",
       "      <td>OBGYN</td>\n",
       "      <td>Medicare/Medicaid</td>\n",
       "      <td>Female</td>\n",
       "    </tr>\n",
       "    <tr>\n",
       "      <th>...</th>\n",
       "      <td>...</td>\n",
       "      <td>...</td>\n",
       "      <td>...</td>\n",
       "      <td>...</td>\n",
       "      <td>...</td>\n",
       "      <td>...</td>\n",
       "      <td>...</td>\n",
       "      <td>...</td>\n",
       "    </tr>\n",
       "    <tr>\n",
       "      <th>94589</th>\n",
       "      <td>146059.0</td>\n",
       "      <td>3.0</td>\n",
       "      <td>56.0</td>\n",
       "      <td>0</td>\n",
       "      <td>2.0</td>\n",
       "      <td>OBGYN</td>\n",
       "      <td>Unknown</td>\n",
       "      <td>Female</td>\n",
       "    </tr>\n",
       "    <tr>\n",
       "      <th>94590</th>\n",
       "      <td>908341.0</td>\n",
       "      <td>8.0</td>\n",
       "      <td>35.0</td>\n",
       "      <td>1</td>\n",
       "      <td>2.0</td>\n",
       "      <td>Orthopedic Surgery</td>\n",
       "      <td>Unknown</td>\n",
       "      <td>Male</td>\n",
       "    </tr>\n",
       "    <tr>\n",
       "      <th>94591</th>\n",
       "      <td>39355.0</td>\n",
       "      <td>3.0</td>\n",
       "      <td>42.0</td>\n",
       "      <td>0</td>\n",
       "      <td>4.0</td>\n",
       "      <td>Emergency Medicine</td>\n",
       "      <td>Medicare/Medicaid</td>\n",
       "      <td>Male</td>\n",
       "    </tr>\n",
       "    <tr>\n",
       "      <th>94592</th>\n",
       "      <td>827167.0</td>\n",
       "      <td>6.0</td>\n",
       "      <td>57.0</td>\n",
       "      <td>1</td>\n",
       "      <td>0.0</td>\n",
       "      <td>Dermatology</td>\n",
       "      <td>Private</td>\n",
       "      <td>Male</td>\n",
       "    </tr>\n",
       "    <tr>\n",
       "      <th>94593</th>\n",
       "      <td>134090.0</td>\n",
       "      <td>9.0</td>\n",
       "      <td>63.0</td>\n",
       "      <td>1</td>\n",
       "      <td>4.0</td>\n",
       "      <td>Neurology/Neurosurgery</td>\n",
       "      <td>Medicare/Medicaid</td>\n",
       "      <td>Female</td>\n",
       "    </tr>\n",
       "  </tbody>\n",
       "</table>\n",
       "<p>94594 rows × 8 columns</p>\n",
       "</div>"
      ],
      "text/plain": [
       "         Amount  Severity   Age Private Attorney  Marital Status  \\\n",
       "0       57041.0       7.0  62.0                1             NaN   \n",
       "1      324976.0       6.0  38.0                1             2.0   \n",
       "2      135383.0       4.0  34.0                1             2.0   \n",
       "3      829742.0       7.0  42.0                1             1.0   \n",
       "4      197675.0       3.0  60.0                0             2.0   \n",
       "...         ...       ...   ...              ...             ...   \n",
       "94589  146059.0       3.0  56.0                0             2.0   \n",
       "94590  908341.0       8.0  35.0                1             2.0   \n",
       "94591   39355.0       3.0  42.0                0             4.0   \n",
       "94592  827167.0       6.0  57.0                1             0.0   \n",
       "94593  134090.0       9.0  63.0                1             4.0   \n",
       "\n",
       "                    Specialty          Insurance  Gender  \n",
       "0             Family Practice            Private    Male  \n",
       "1                         NaN       No Insurance  Female  \n",
       "2                  Cardiology            Unknown    Male  \n",
       "3                  Pediatrics       No Insurance  Female  \n",
       "4                       OBGYN  Medicare/Medicaid  Female  \n",
       "...                       ...                ...     ...  \n",
       "94589                   OBGYN            Unknown  Female  \n",
       "94590      Orthopedic Surgery            Unknown    Male  \n",
       "94591      Emergency Medicine  Medicare/Medicaid    Male  \n",
       "94592             Dermatology            Private    Male  \n",
       "94593  Neurology/Neurosurgery  Medicare/Medicaid  Female  \n",
       "\n",
       "[94594 rows x 8 columns]"
      ]
     },
     "execution_count": 67,
     "metadata": {},
     "output_type": "execute_result"
    }
   ],
   "source": [
    "df1['Amount'].fillna(df1['Amount'].mean(), inplace=True)\n",
    "df1"
   ]
  },
  {
   "cell_type": "code",
   "execution_count": 68,
   "id": "8c1cab1e",
   "metadata": {},
   "outputs": [],
   "source": [
    "columna = 'Severity'\n",
    "num_nulos = df1[columna].isnull().sum()\n",
    "numeros_enteros = np.random.randint(1, 10, size=num_nulos)\n",
    "numeros_flotantes = numeros_enteros.astype(float) \n",
    "serie_reemplazo = pd.Series(\n",
    "    numeros_flotantes,\n",
    "    index=df1[df1[columna].isnull()].index\n",
    ")\n",
    "\n",
    "df1[columna].fillna(serie_reemplazo, inplace=True)"
   ]
  },
  {
   "cell_type": "code",
   "execution_count": 69,
   "id": "84effd58",
   "metadata": {},
   "outputs": [
    {
     "data": {
      "text/plain": [
       "Amount                 0\n",
       "Severity               0\n",
       "Age                 2837\n",
       "Private Attorney    2837\n",
       "Marital Status      4676\n",
       "Specialty           2837\n",
       "Insurance           2837\n",
       "Gender              2837\n",
       "dtype: int64"
      ]
     },
     "execution_count": 69,
     "metadata": {},
     "output_type": "execute_result"
    }
   ],
   "source": [
    "df1.isnull().sum()"
   ]
  },
  {
   "cell_type": "code",
   "execution_count": 70,
   "id": "47095c67",
   "metadata": {},
   "outputs": [],
   "source": [
    "columna = 'Age'\n",
    "num_nulos = df1[columna].isnull().sum()\n",
    "numeros_enteros = np.random.randint(25, 75, size=num_nulos)\n",
    "numeros_flotantes = numeros_enteros.astype(float) \n",
    "serie_reemplazo = pd.Series(\n",
    "    numeros_flotantes,\n",
    "    index=df1[df1[columna].isnull()].index\n",
    ")\n",
    "\n",
    "df1[columna].fillna(serie_reemplazo, inplace=True)"
   ]
  },
  {
   "cell_type": "code",
   "execution_count": 71,
   "id": "c68b2455",
   "metadata": {},
   "outputs": [],
   "source": [
    "columna = 'Private Attorney'\n",
    "num_nulos = df1[columna].isnull().sum()\n",
    "numeros_enteros = np.random.randint(0, 1, size=num_nulos)\n",
    "numeros_flotantes = numeros_enteros.astype(float) \n",
    "serie_reemplazo = pd.Series(\n",
    "    numeros_flotantes,\n",
    "    index=df1[df1[columna].isnull()].index\n",
    ")\n",
    "\n",
    "df1[columna].fillna(serie_reemplazo, inplace=True)"
   ]
  },
  {
   "cell_type": "code",
   "execution_count": 72,
   "id": "9d647935",
   "metadata": {},
   "outputs": [
    {
     "data": {
      "text/plain": [
       "Amount                 0\n",
       "Severity               0\n",
       "Age                    0\n",
       "Private Attorney       0\n",
       "Marital Status      4676\n",
       "Specialty           2837\n",
       "Insurance           2837\n",
       "Gender              2837\n",
       "dtype: int64"
      ]
     },
     "execution_count": 72,
     "metadata": {},
     "output_type": "execute_result"
    }
   ],
   "source": [
    "df1.isnull().sum()"
   ]
  },
  {
   "cell_type": "code",
   "execution_count": 73,
   "id": "e39f334d",
   "metadata": {},
   "outputs": [],
   "source": [
    "columna = 'Marital Status'\n",
    "num_nulos = df1[columna].isnull().sum()\n",
    "numeros_enteros = np.random.randint(1, 4, size=num_nulos)\n",
    "numeros_flotantes = numeros_enteros.astype(float) \n",
    "serie_reemplazo = pd.Series(\n",
    "    numeros_flotantes,\n",
    "    index=df1[df1[columna].isnull()].index\n",
    ")\n",
    "\n",
    "df1[columna].fillna(serie_reemplazo, inplace=True)"
   ]
  },
  {
   "cell_type": "code",
   "execution_count": 74,
   "id": "21a15287",
   "metadata": {},
   "outputs": [
    {
     "data": {
      "text/html": [
       "<div>\n",
       "<style scoped>\n",
       "    .dataframe tbody tr th:only-of-type {\n",
       "        vertical-align: middle;\n",
       "    }\n",
       "\n",
       "    .dataframe tbody tr th {\n",
       "        vertical-align: top;\n",
       "    }\n",
       "\n",
       "    .dataframe thead th {\n",
       "        text-align: right;\n",
       "    }\n",
       "</style>\n",
       "<table border=\"1\" class=\"dataframe\">\n",
       "  <thead>\n",
       "    <tr style=\"text-align: right;\">\n",
       "      <th></th>\n",
       "      <th>Amount</th>\n",
       "      <th>Severity</th>\n",
       "      <th>Age</th>\n",
       "      <th>Private Attorney</th>\n",
       "      <th>Marital Status</th>\n",
       "      <th>Specialty</th>\n",
       "      <th>Insurance</th>\n",
       "      <th>Gender</th>\n",
       "    </tr>\n",
       "  </thead>\n",
       "  <tbody>\n",
       "    <tr>\n",
       "      <th>0</th>\n",
       "      <td>57041.0</td>\n",
       "      <td>7.0</td>\n",
       "      <td>62.0</td>\n",
       "      <td>1</td>\n",
       "      <td>1.0</td>\n",
       "      <td>Family Practice</td>\n",
       "      <td>Private</td>\n",
       "      <td>Male</td>\n",
       "    </tr>\n",
       "    <tr>\n",
       "      <th>1</th>\n",
       "      <td>324976.0</td>\n",
       "      <td>6.0</td>\n",
       "      <td>38.0</td>\n",
       "      <td>1</td>\n",
       "      <td>2.0</td>\n",
       "      <td>NaN</td>\n",
       "      <td>No Insurance</td>\n",
       "      <td>Female</td>\n",
       "    </tr>\n",
       "    <tr>\n",
       "      <th>2</th>\n",
       "      <td>135383.0</td>\n",
       "      <td>4.0</td>\n",
       "      <td>34.0</td>\n",
       "      <td>1</td>\n",
       "      <td>2.0</td>\n",
       "      <td>Cardiology</td>\n",
       "      <td>Unknown</td>\n",
       "      <td>Male</td>\n",
       "    </tr>\n",
       "    <tr>\n",
       "      <th>3</th>\n",
       "      <td>829742.0</td>\n",
       "      <td>7.0</td>\n",
       "      <td>42.0</td>\n",
       "      <td>1</td>\n",
       "      <td>1.0</td>\n",
       "      <td>Pediatrics</td>\n",
       "      <td>No Insurance</td>\n",
       "      <td>Female</td>\n",
       "    </tr>\n",
       "    <tr>\n",
       "      <th>4</th>\n",
       "      <td>197675.0</td>\n",
       "      <td>3.0</td>\n",
       "      <td>60.0</td>\n",
       "      <td>0</td>\n",
       "      <td>2.0</td>\n",
       "      <td>OBGYN</td>\n",
       "      <td>Medicare/Medicaid</td>\n",
       "      <td>Female</td>\n",
       "    </tr>\n",
       "    <tr>\n",
       "      <th>...</th>\n",
       "      <td>...</td>\n",
       "      <td>...</td>\n",
       "      <td>...</td>\n",
       "      <td>...</td>\n",
       "      <td>...</td>\n",
       "      <td>...</td>\n",
       "      <td>...</td>\n",
       "      <td>...</td>\n",
       "    </tr>\n",
       "    <tr>\n",
       "      <th>94589</th>\n",
       "      <td>146059.0</td>\n",
       "      <td>3.0</td>\n",
       "      <td>56.0</td>\n",
       "      <td>0</td>\n",
       "      <td>2.0</td>\n",
       "      <td>OBGYN</td>\n",
       "      <td>Unknown</td>\n",
       "      <td>Female</td>\n",
       "    </tr>\n",
       "    <tr>\n",
       "      <th>94590</th>\n",
       "      <td>908341.0</td>\n",
       "      <td>8.0</td>\n",
       "      <td>35.0</td>\n",
       "      <td>1</td>\n",
       "      <td>2.0</td>\n",
       "      <td>Orthopedic Surgery</td>\n",
       "      <td>Unknown</td>\n",
       "      <td>Male</td>\n",
       "    </tr>\n",
       "    <tr>\n",
       "      <th>94591</th>\n",
       "      <td>39355.0</td>\n",
       "      <td>3.0</td>\n",
       "      <td>42.0</td>\n",
       "      <td>0</td>\n",
       "      <td>4.0</td>\n",
       "      <td>Emergency Medicine</td>\n",
       "      <td>Medicare/Medicaid</td>\n",
       "      <td>Male</td>\n",
       "    </tr>\n",
       "    <tr>\n",
       "      <th>94592</th>\n",
       "      <td>827167.0</td>\n",
       "      <td>6.0</td>\n",
       "      <td>57.0</td>\n",
       "      <td>1</td>\n",
       "      <td>0.0</td>\n",
       "      <td>Dermatology</td>\n",
       "      <td>Private</td>\n",
       "      <td>Male</td>\n",
       "    </tr>\n",
       "    <tr>\n",
       "      <th>94593</th>\n",
       "      <td>134090.0</td>\n",
       "      <td>9.0</td>\n",
       "      <td>63.0</td>\n",
       "      <td>1</td>\n",
       "      <td>4.0</td>\n",
       "      <td>Neurology/Neurosurgery</td>\n",
       "      <td>Medicare/Medicaid</td>\n",
       "      <td>Female</td>\n",
       "    </tr>\n",
       "  </tbody>\n",
       "</table>\n",
       "<p>94594 rows × 8 columns</p>\n",
       "</div>"
      ],
      "text/plain": [
       "         Amount  Severity   Age Private Attorney  Marital Status  \\\n",
       "0       57041.0       7.0  62.0                1             1.0   \n",
       "1      324976.0       6.0  38.0                1             2.0   \n",
       "2      135383.0       4.0  34.0                1             2.0   \n",
       "3      829742.0       7.0  42.0                1             1.0   \n",
       "4      197675.0       3.0  60.0                0             2.0   \n",
       "...         ...       ...   ...              ...             ...   \n",
       "94589  146059.0       3.0  56.0                0             2.0   \n",
       "94590  908341.0       8.0  35.0                1             2.0   \n",
       "94591   39355.0       3.0  42.0                0             4.0   \n",
       "94592  827167.0       6.0  57.0                1             0.0   \n",
       "94593  134090.0       9.0  63.0                1             4.0   \n",
       "\n",
       "                    Specialty          Insurance  Gender  \n",
       "0             Family Practice            Private    Male  \n",
       "1                         NaN       No Insurance  Female  \n",
       "2                  Cardiology            Unknown    Male  \n",
       "3                  Pediatrics       No Insurance  Female  \n",
       "4                       OBGYN  Medicare/Medicaid  Female  \n",
       "...                       ...                ...     ...  \n",
       "94589                   OBGYN            Unknown  Female  \n",
       "94590      Orthopedic Surgery            Unknown    Male  \n",
       "94591      Emergency Medicine  Medicare/Medicaid    Male  \n",
       "94592             Dermatology            Private    Male  \n",
       "94593  Neurology/Neurosurgery  Medicare/Medicaid  Female  \n",
       "\n",
       "[94594 rows x 8 columns]"
      ]
     },
     "execution_count": 74,
     "metadata": {},
     "output_type": "execute_result"
    }
   ],
   "source": [
    "columna = 'Marital Status'\n",
    "num_nulos = df1[columna].isnull().sum()\n",
    "numeros_enteros = np.random.randint(1, 4, size=num_nulos)\n",
    "numeros_flotantes = numeros_enteros.astype(float) \n",
    "serie_reemplazo = pd.Series(\n",
    "    numeros_flotantes,\n",
    "    index=df1[df1[columna].isnull()].index\n",
    ")\n",
    "\n",
    "df1[columna].fillna(serie_reemplazo, inplace=True)\n",
    "df1"
   ]
  },
  {
   "cell_type": "code",
   "execution_count": 75,
   "id": "01a2e2eb",
   "metadata": {},
   "outputs": [],
   "source": [
    "df1['Specialty'].fillna(df1['Specialty'].mode()[0], inplace=True)"
   ]
  },
  {
   "cell_type": "code",
   "execution_count": 77,
   "id": "e28ca82f",
   "metadata": {},
   "outputs": [],
   "source": [
    "df1['Insurance'].fillna(df1['Insurance'].mode()[0], inplace=True)"
   ]
  },
  {
   "cell_type": "code",
   "execution_count": 78,
   "id": "7200ba48",
   "metadata": {},
   "outputs": [],
   "source": [
    "df1['Gender'].fillna(df1['Gender'].mode()[0], inplace=True)"
   ]
  },
  {
   "cell_type": "code",
   "execution_count": 79,
   "id": "a7baeccb",
   "metadata": {},
   "outputs": [
    {
     "data": {
      "text/plain": [
       "Amount              0\n",
       "Severity            0\n",
       "Age                 0\n",
       "Private Attorney    0\n",
       "Marital Status      0\n",
       "Specialty           0\n",
       "Insurance           0\n",
       "Gender              0\n",
       "dtype: int64"
      ]
     },
     "execution_count": 79,
     "metadata": {},
     "output_type": "execute_result"
    }
   ],
   "source": [
    "df1.isnull().sum()"
   ]
  }
 ],
 "metadata": {
  "kernelspec": {
   "display_name": "Python 3",
   "language": "python",
   "name": "python3"
  },
  "language_info": {
   "codemirror_mode": {
    "name": "ipython",
    "version": 3
   },
   "file_extension": ".py",
   "mimetype": "text/x-python",
   "name": "python",
   "nbconvert_exporter": "python",
   "pygments_lexer": "ipython3",
   "version": "3.14.0"
  }
 },
 "nbformat": 4,
 "nbformat_minor": 5
}
